{
 "cells": [
  {
   "cell_type": "code",
   "execution_count": 5,
   "metadata": {},
   "outputs": [],
   "source": [
    "import datasets\n",
    "from datasets import load_dataset\n",
    "\n",
    "import os\n",
    "import torch\n",
    "from tqdm import tqdm\n",
    "import numpy as np\n",
    "import tiktoken\n",
    "tknzr = tiktoken.get_encoding(\"gpt2\")\n",
    "KODCODE_DATA_PATH = os.path.join(\"/scratch/homes/sfan/multi_doge/src/data/datasets\", \"kodcode/\")\n"
   ]
  },
  {
   "cell_type": "code",
   "execution_count": 6,
   "metadata": {},
   "outputs": [],
   "source": [
    "def tokenize_with_pad(text, pad_to_multiple=512):\n",
    "    ids = tknzr.encode_ordinary(text)\n",
    "    ids.append(tknzr.eot_token)\n",
    "    pad_token_id = tknzr.eot_token\n",
    "    # Calculate padding length (next multiple of pad_multiple)\n",
    "    padded_length = ((len(ids) + pad_to_multiple - 1) // pad_to_multiple) * pad_to_multiple\n",
    "    # Initialize the padded array with pad token (not zeros)\n",
    "    padded_tokens = np.ones(padded_length, dtype=np.uint16) * pad_token_id\n",
    "    padded_tokens[:len(ids)] = ids\n",
    "    return padded_tokens\n",
    "\n",
    "def get_kodcode(num_proc=10, return_torch=False):\n",
    "    \"\"\"\n",
    "    Load and process the KodCode (for code reasoning) dataset.\n",
    "    Tokenize the text and store it in binary format for efficient loading.\n",
    "    \"\"\"\n",
    "    if not os.path.exists(os.path.join(KODCODE_DATA_PATH, 'val.bin')):\n",
    "        os.makedirs(KODCODE_DATA_PATH, exist_ok=True)\n",
    "\n",
    "        # Load the GSM8K dataset from Hugging Face Datasets\n",
    "        dataset = load_dataset(\"KodCode/KodCode-V1-SFT-R1\", trust_remote_code=True)\n",
    "        dataset = dataset[\"train\"].train_test_split(test_size=0.1, seed=2357, shuffle=True)\n",
    "        data_dict = {\n",
    "            'train': dataset[\"train\"],\n",
    "            'val': dataset[\"test\"],\n",
    "        }\n",
    "\n",
    "        def process(example, pad_to_multiple=512):\n",
    "            \"\"\"\n",
    "            Tokenize the example text by encoding it into token IDs.\n",
    "            \"\"\"\n",
    "            question = example['question']\n",
    "            answer = example['solution']\n",
    "            \n",
    "            concatenated_text = f\"{question}\\n{answer}\"\n",
    "            # print(concatenated_text)\n",
    "            ids = tokenize_with_pad(text=concatenated_text,\n",
    "                                    pad_to_multiple=512)\n",
    "            return {'ids': ids, 'len': len(ids)}\n",
    "\n",
    "        # Tokenize and map the dataset\n",
    "        tokenized = {}\n",
    "        for split, dset in data_dict.items():\n",
    "            tokenized[split] = dset.map(\n",
    "                process,\n",
    "                remove_columns=['style', 'question_id', 'subset', 'question', 'solution', 'test_code', 'test_info',\n",
    "                                'gpt_pass_sequence', 'gpt_pass_trial_num', 'gpt_difficulty', 'gpt_pass_percentage', \n",
    "                                'r1_pass_sequence', 'r1_pass_trial_num', 'r1_correctness', 'r1_solution', 'metadata', 'conversations'],\n",
    "                desc=f\"Tokenizing {split} split\",\n",
    "                num_proc=num_proc\n",
    "            )\n",
    "\n",
    "        # Concatenate all the token IDs into one large binary file per split\n",
    "        for split, dset in tokenized.items():\n",
    "            # Save token IDs length\n",
    "            len_arr = np.array(dset['len'], dtype=np.uint16)\n",
    "            with open(os.path.join(KODCODE_DATA_PATH, f'{split}.len'), 'wb') as f:\n",
    "                np.save(f, len_arr)\n",
    "            # Total number of tokens\n",
    "            arr_len = np.sum(dset['len'])\n",
    "            filename = os.path.join(KODCODE_DATA_PATH, f'{split}.bin')\n",
    "            dtype = np.uint16\n",
    "            arr = np.memmap(filename, dtype=dtype, mode='w+', shape=(arr_len,))\n",
    "            total_batches = 10\n",
    "\n",
    "            idx = 0\n",
    "            for batch_idx in tqdm(range(total_batches), desc=f'Writing {filename}'):\n",
    "                batch = dset.shard(num_shards=total_batches, index=batch_idx, contiguous=True).with_format('numpy').to_dict()\n",
    "                arr_batch = np.concatenate(batch['ids'])\n",
    "                arr[idx: idx + len(arr_batch)] = arr_batch\n",
    "                idx += len(arr_batch)\n",
    "            arr.flush()\n",
    "    \n",
    "    # Load tokenized binary files for training, validation\n",
    "    train_data = np.memmap(os.path.join(KODCODE_DATA_PATH, 'train.bin'), dtype=np.uint16, mode='r')\n",
    "    val_data = np.memmap(os.path.join(KODCODE_DATA_PATH, 'val.bin'), dtype=np.uint16, mode='r')\n",
    "\n",
    "    if return_torch:\n",
    "        train_data = torch.tensor(np.array(train_data, dtype=np.uint16))\n",
    "        val_data = torch.tensor(np.array(val_data, dtype=np.uint16))\n",
    "    print(f'Benchmark KodCode: train[{len(train_data)}] | val[{len(val_data)}]')\n",
    "    return {\n",
    "        'train': train_data,\n",
    "        'train_len': np.load(os.path.join(KODCODE_DATA_PATH, 'train.len')), \n",
    "        'val': val_data, \n",
    "        'val_len': np.load(os.path.join(KODCODE_DATA_PATH, 'val.len')),\n",
    "    }"
   ]
  },
  {
   "cell_type": "code",
   "execution_count": 7,
   "metadata": {},
   "outputs": [
    {
     "data": {
      "application/vnd.jupyter.widget-view+json": {
       "model_id": "42444fd236274b53b5c4919cd501a450",
       "version_major": 2,
       "version_minor": 0
      },
      "text/plain": [
       "incorrect-00009-of-00010.parquet:   0%|          | 0.00/173M [00:00<?, ?B/s]"
      ]
     },
     "metadata": {},
     "output_type": "display_data"
    },
    {
     "data": {
      "application/vnd.jupyter.widget-view+json": {
       "model_id": "ba55a4a7fb8f4fc395378424fe737eb6",
       "version_major": 2,
       "version_minor": 0
      },
      "text/plain": [
       "use_with_caution-00000-of-00001.parquet:   0%|          | 0.00/39.4M [00:00<?, ?B/s]"
      ]
     },
     "metadata": {},
     "output_type": "display_data"
    },
    {
     "data": {
      "application/vnd.jupyter.widget-view+json": {
       "model_id": "13b581c52c644224a9fe2114ea836aaa",
       "version_major": 2,
       "version_minor": 0
      },
      "text/plain": [
       "Generating train split:   0%|          | 0/245937 [00:00<?, ? examples/s]"
      ]
     },
     "metadata": {},
     "output_type": "display_data"
    },
    {
     "data": {
      "application/vnd.jupyter.widget-view+json": {
       "model_id": "b7401e6013864610aab88c2ea3243076",
       "version_major": 2,
       "version_minor": 0
      },
      "text/plain": [
       "Generating incorrect split:   0%|          | 0/192557 [00:00<?, ? examples/s]"
      ]
     },
     "metadata": {},
     "output_type": "display_data"
    },
    {
     "data": {
      "application/vnd.jupyter.widget-view+json": {
       "model_id": "deb073803e4d489c8532c8360301bb61",
       "version_major": 2,
       "version_minor": 0
      },
      "text/plain": [
       "Generating use_with_caution split:   0%|          | 0/4439 [00:00<?, ? examples/s]"
      ]
     },
     "metadata": {},
     "output_type": "display_data"
    },
    {
     "data": {
      "application/vnd.jupyter.widget-view+json": {
       "model_id": "1f857730713f4ee89e47658a75a1b0f2",
       "version_major": 2,
       "version_minor": 0
      },
      "text/plain": [
       "Tokenizing train split (num_proc=10):   0%|          | 0/221343 [00:00<?, ? examples/s]"
      ]
     },
     "metadata": {},
     "output_type": "display_data"
    },
    {
     "data": {
      "application/vnd.jupyter.widget-view+json": {
       "model_id": "4278e72b3dd64ee2a93a61b267934fcc",
       "version_major": 2,
       "version_minor": 0
      },
      "text/plain": [
       "Tokenizing val split (num_proc=10):   0%|          | 0/24594 [00:00<?, ? examples/s]"
      ]
     },
     "metadata": {},
     "output_type": "display_data"
    },
    {
     "name": "stderr",
     "output_type": "stream",
     "text": [
      "Writing /scratch/homes/sfan/multi_doge/src/data/datasets/kodcode/train.bin: 100%|██████████| 10/10 [00:51<00:00,  5.14s/it]\n",
      "Writing /scratch/homes/sfan/multi_doge/src/data/datasets/kodcode/val.bin: 100%|██████████| 10/10 [00:05<00:00,  1.86it/s]"
     ]
    },
    {
     "name": "stdout",
     "output_type": "stream",
     "text": [
      "Benchmark KodCode: train[193297920] | val[21355520]\n"
     ]
    },
    {
     "name": "stderr",
     "output_type": "stream",
     "text": [
      "\n"
     ]
    }
   ],
   "source": [
    "kodcode = get_kodcode(num_proc=10, return_torch=False)"
   ]
  },
  {
   "cell_type": "code",
   "execution_count": null,
   "metadata": {},
   "outputs": [],
   "source": []
  }
 ],
 "metadata": {
  "kernelspec": {
   "display_name": "Python 3.10.9 ('base')",
   "language": "python",
   "name": "python3"
  },
  "language_info": {
   "codemirror_mode": {
    "name": "ipython",
    "version": 3
   },
   "file_extension": ".py",
   "mimetype": "text/x-python",
   "name": "python",
   "nbconvert_exporter": "python",
   "pygments_lexer": "ipython3",
   "version": "3.10.9"
  },
  "orig_nbformat": 4,
  "vscode": {
   "interpreter": {
    "hash": "d4d1e4263499bec80672ea0156c357c1ee493ec2b1c70f0acce89fc37c4a6abe"
   }
  }
 },
 "nbformat": 4,
 "nbformat_minor": 2
}
